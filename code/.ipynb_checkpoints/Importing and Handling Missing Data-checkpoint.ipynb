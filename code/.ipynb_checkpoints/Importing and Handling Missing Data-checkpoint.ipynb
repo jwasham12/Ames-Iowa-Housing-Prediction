{
 "cells": [
  {
   "cell_type": "markdown",
   "metadata": {},
   "source": [
    "# Importing and Handling Data"
   ]
  },
  {
   "cell_type": "code",
   "execution_count": 61,
   "metadata": {},
   "outputs": [],
   "source": [
    "# import libraries\n",
    "import numpy as np\n",
    "import pandas as pd\n",
    "import matplotlib.pyplot as plt\n",
    "\n",
    "%matplotlib inline\n",
    "plt.style.use('fivethirtyeight')\n",
    "pd.set_option('display.max_columns', None)\n",
    "pd.set_option('display.max_rows', None)"
   ]
  },
  {
   "cell_type": "markdown",
   "metadata": {},
   "source": [
    "## Import Data"
   ]
  },
  {
   "cell_type": "code",
   "execution_count": 62,
   "metadata": {},
   "outputs": [],
   "source": [
    "# import csv file into dataframe\n",
    "house_train = pd.read_csv(\"../datasets/train.csv\")\n",
    "house_test = pd.read_csv(\"../datasets/test.csv\")"
   ]
  },
  {
   "cell_type": "markdown",
   "metadata": {},
   "source": [
    "## Data Information"
   ]
  },
  {
   "cell_type": "code",
   "execution_count": 66,
   "metadata": {},
   "outputs": [
    {
     "name": "stdout",
     "output_type": "stream",
     "text": [
      "<class 'pandas.core.frame.DataFrame'>\n",
      "RangeIndex: 2051 entries, 0 to 2050\n",
      "Data columns (total 81 columns):\n",
      "Id                 2051 non-null int64\n",
      "PID                2051 non-null int64\n",
      "MS SubClass        2051 non-null int64\n",
      "MS Zoning          2051 non-null object\n",
      "Lot Frontage       1721 non-null float64\n",
      "Lot Area           2051 non-null int64\n",
      "Street             2051 non-null object\n",
      "Alley              140 non-null object\n",
      "Lot Shape          2051 non-null object\n",
      "Land Contour       2051 non-null object\n",
      "Utilities          2051 non-null object\n",
      "Lot Config         2051 non-null object\n",
      "Land Slope         2051 non-null object\n",
      "Neighborhood       2051 non-null object\n",
      "Condition 1        2051 non-null object\n",
      "Condition 2        2051 non-null object\n",
      "Bldg Type          2051 non-null object\n",
      "House Style        2051 non-null object\n",
      "Overall Qual       2051 non-null int64\n",
      "Overall Cond       2051 non-null int64\n",
      "Year Built         2051 non-null int64\n",
      "Year Remod/Add     2051 non-null int64\n",
      "Roof Style         2051 non-null object\n",
      "Roof Matl          2051 non-null object\n",
      "Exterior 1st       2051 non-null object\n",
      "Exterior 2nd       2051 non-null object\n",
      "Mas Vnr Type       2029 non-null object\n",
      "Mas Vnr Area       2029 non-null float64\n",
      "Exter Qual         2051 non-null object\n",
      "Exter Cond         2051 non-null object\n",
      "Foundation         2051 non-null object\n",
      "Bsmt Qual          1996 non-null object\n",
      "Bsmt Cond          1996 non-null object\n",
      "Bsmt Exposure      1993 non-null object\n",
      "BsmtFin Type 1     1996 non-null object\n",
      "BsmtFin SF 1       2050 non-null float64\n",
      "BsmtFin Type 2     1995 non-null object\n",
      "BsmtFin SF 2       2050 non-null float64\n",
      "Bsmt Unf SF        2050 non-null float64\n",
      "Total Bsmt SF      2050 non-null float64\n",
      "Heating            2051 non-null object\n",
      "Heating QC         2051 non-null object\n",
      "Central Air        2051 non-null object\n",
      "Electrical         2051 non-null object\n",
      "1st Flr SF         2051 non-null int64\n",
      "2nd Flr SF         2051 non-null int64\n",
      "Low Qual Fin SF    2051 non-null int64\n",
      "Gr Liv Area        2051 non-null int64\n",
      "Bsmt Full Bath     2049 non-null float64\n",
      "Bsmt Half Bath     2049 non-null float64\n",
      "Full Bath          2051 non-null int64\n",
      "Half Bath          2051 non-null int64\n",
      "Bedroom AbvGr      2051 non-null int64\n",
      "Kitchen AbvGr      2051 non-null int64\n",
      "Kitchen Qual       2051 non-null object\n",
      "TotRms AbvGrd      2051 non-null int64\n",
      "Functional         2051 non-null object\n",
      "Fireplaces         2051 non-null int64\n",
      "Fireplace Qu       1051 non-null object\n",
      "Garage Type        1938 non-null object\n",
      "Garage Yr Blt      1937 non-null float64\n",
      "Garage Finish      1937 non-null object\n",
      "Garage Cars        2050 non-null float64\n",
      "Garage Area        2050 non-null float64\n",
      "Garage Qual        1937 non-null object\n",
      "Garage Cond        1937 non-null object\n",
      "Paved Drive        2051 non-null object\n",
      "Wood Deck SF       2051 non-null int64\n",
      "Open Porch SF      2051 non-null int64\n",
      "Enclosed Porch     2051 non-null int64\n",
      "3Ssn Porch         2051 non-null int64\n",
      "Screen Porch       2051 non-null int64\n",
      "Pool Area          2051 non-null int64\n",
      "Pool QC            9 non-null object\n",
      "Fence              400 non-null object\n",
      "Misc Feature       65 non-null object\n",
      "Misc Val           2051 non-null int64\n",
      "Mo Sold            2051 non-null int64\n",
      "Yr Sold            2051 non-null int64\n",
      "Sale Type          2051 non-null object\n",
      "SalePrice          2051 non-null int64\n",
      "dtypes: float64(11), int64(28), object(42)\n",
      "memory usage: 1.3+ MB\n"
     ]
    }
   ],
   "source": [
    "# check the data types of each column\n",
    "house_train.info()"
   ]
  },
  {
   "cell_type": "markdown",
   "metadata": {},
   "source": [
    "- The train dataset has 2051 rows and 81 columns. It looks like the data contains some missing values, so we should look more into the columns with missing values."
   ]
  },
  {
   "cell_type": "markdown",
   "metadata": {},
   "source": [
    "## Missing Values"
   ]
  },
  {
   "cell_type": "markdown",
   "metadata": {},
   "source": [
    "### Train data"
   ]
  },
  {
   "cell_type": "code",
   "execution_count": 67,
   "metadata": {},
   "outputs": [
    {
     "name": "stdout",
     "output_type": "stream",
     "text": [
      "Pool QC           2042\n",
      "Misc Feature      1986\n",
      "Alley             1911\n",
      "Fence             1651\n",
      "Fireplace Qu      1000\n",
      "Lot Frontage       330\n",
      "Garage Yr Blt      114\n",
      "Garage Cond        114\n",
      "Garage Qual        114\n",
      "Garage Finish      114\n",
      "Garage Type        113\n",
      "Bsmt Exposure       58\n",
      "BsmtFin Type 2      56\n",
      "Bsmt Cond           55\n",
      "Bsmt Qual           55\n",
      "BsmtFin Type 1      55\n",
      "Mas Vnr Type        22\n",
      "Mas Vnr Area        22\n",
      "Bsmt Half Bath       2\n",
      "Bsmt Full Bath       2\n",
      "Garage Cars          1\n",
      "BsmtFin SF 1         1\n",
      "BsmtFin SF 2         1\n",
      "Bsmt Unf SF          1\n",
      "Garage Area          1\n",
      "Total Bsmt SF        1\n",
      "dtype: int64\n"
     ]
    }
   ],
   "source": [
    "# Find the missing values\n",
    "missing_train = house_train.isnull().sum()\n",
    "print(missing_train[missing_train > 0].sort_values(ascending = False))"
   ]
  },
  {
   "cell_type": "markdown",
   "metadata": {},
   "source": [
    "- The train dataset has 26 columns with missing value. We need to analyze each 26 columns and decide what to filled out in each columns."
   ]
  },
  {
   "cell_type": "code",
   "execution_count": 68,
   "metadata": {},
   "outputs": [
    {
     "data": {
      "image/png": "[encoded data removed]",
      "text/plain": [
       "<Figure size 720x360 with 1 Axes>"
      ]
     },
     "metadata": {},
     "output_type": "display_data"
    }
   ],
   "source": [
    "# See which columns have missing values\n",
    "missing_train = missing_train[missing_train > 0]\n",
    "missing_train.sort_values(ascending=False,inplace = True)\n",
    "missing_train.plot.bar(figsize = (10,5))\n",
    "plt.title(\"Number of Missing Values\");"
   ]
  },
  {
   "cell_type": "markdown",
   "metadata": {},
   "source": [
    "#### Catagorical Columns\n",
    "\n",
    "- Pool QC: Pool quality\n",
    "    - Ex: Excellent \n",
    "    - Gd: Good \n",
    "    - TA: Average/Typical\n",
    "    - Fa: Fair \n",
    "    - NA: No Pool\n",
    "    \n",
    "- Misc Feature: Miscellaneous feature not covered in other categories\n",
    "    - Elev: Elevator\n",
    "    - Gar2: 2nd Garage (if not described in garage section)\n",
    "    - Othr: Other, Shed: Shed (over 100 SF)\n",
    "    - TenC: Tennis Court\n",
    "    - NA: None\n",
    "\n",
    "    \n",
    "- Alley: Type of alley access to property \n",
    "    - Grvl: Gravel\n",
    "    - Pave: Paved\n",
    "    - NA: No alley access\n",
    "\n",
    "    \n",
    "- Fence: Fence quality \n",
    "    - GdPrv: Good Privacy\n",
    "    - MnPrv: Minimum Privacy\n",
    "    - GdWo: Good Wood\n",
    "    - MnWw: Minimum Wood/Wire\n",
    "    - NA: No Fence\n",
    "\n",
    "    \n",
    "- Fireplace Qu: Fireplace quality \n",
    "    - Ex Excellent: Exceptional Masonry Fireplace\n",
    "    - Gd Good: Masonry Fireplace in main level\n",
    "    - TA Average: Prefabricated Fireplace in main living area or Masonry Fireplace in basement\n",
    "    - Fa Fair: Prefabricated Fireplace in basement\n",
    "    - Po Poor: Ben Franklin Stove\n",
    "    - NA: No Fireplace\n",
    "\n",
    "- GarageCond: Garage condition\n",
    "    - Ex: Excellent\n",
    "    - Gd: Good\n",
    "    - TA: Typical/Average\n",
    "    - Fa: Fair\n",
    "    - Po: Poor\n",
    "    - NA: No Garage\n",
    "\n",
    "- GarageQual: Garage quality\n",
    "    - Ex: Excellent\n",
    "    - Gd: Good\n",
    "    - TA: Typical/Average\n",
    "    - Fa: Fair\n",
    "    - Po: Poor\n",
    "    - NA: No Garage\n",
    "\n",
    "- GarageFinish: Interior finish of the garage\n",
    "    - Fin: Finished\n",
    "    - RFn: Rough Finished\n",
    "    - Unf: Unfinished\n",
    "    - NA: No Garage\n",
    "\n",
    "- GarageType: Garage location\n",
    "    - 2Types: More than one type of garage\n",
    "    - Attchd: Attached to home\n",
    "    - Basment: Basement Garage\n",
    "    - BuiltIn: Built-In (Garage part of house - typically has room above garage)\n",
    "    - CarPort: Car Port\n",
    "    - Detchd: Detached from home\n",
    "    - NA: No Garage\n",
    "\n",
    "- BsmtExposure: Walkout or garden level basement walls\n",
    "    - Gd: Good Exposure\n",
    "    - Av: Average Exposure (split levels or foyers typically score average or above)\n",
    "    - Mn: Mimimum Exposure\n",
    "    - No: No Exposure\n",
    "    - NA: No Basement\n",
    "\n",
    "- BsmtFinType1: Quality of basement finished area\n",
    "    - GLQ: Good Living Quarters\n",
    "    - ALQ: Average Living Quarters\n",
    "    - BLQ: Below Average Living Quarters\n",
    "    - Rec: Average Rec Room\n",
    "    - LwQ: Low Quality\n",
    "    - Unf: Unfinshed\n",
    "    - NA: No Basement\n",
    "    \n",
    "- BsmtFinType2: Quality of second finished area (if present)\n",
    "    - GLQ: Good Living Quarters\n",
    "    - ALQ: Average Living Quarters\n",
    "    - BLQ: Below Average Living Quarters\n",
    "    - Rec: Average Rec Room\n",
    "    - LwQ: Low Quality\n",
    "    - Unf: Unfinshed\n",
    "    - NA: No Basement\n",
    "    \n",
    "- BsmtQual: Height of the basement\n",
    "    - Ex: Excellent (100+ inches)\n",
    "    - Gd: Good (90-99 inches)\n",
    "    - TA: Typical (80-89 inches)\n",
    "    - Fa: Fair (70-79 inches)\n",
    "    - Po: Poor (<70 inches)\n",
    "    - NA: No Basement\n",
    "- BsmtCond: General condition of the basement\n",
    "    - Ex: Excellent\n",
    "    - Gd: Good\n",
    "    - TA: Typical - slight dampness allowed\n",
    "    - Fa: Fair - dampness or some cracking or settling\n",
    "    - Po: Poor - Severe cracking, settling, or wetness\n",
    "    - NA: No Basement\n",
    "\n",
    "- MasVnrType: Masonry veneer type\n",
    "    - BrkCmn: Brick Common\n",
    "    - BrkFace: Brick Face\n",
    "    - CBlock: Cinder Block\n",
    "    - NA: None\n",
    "    - Stone: Stone\n",
    "\n",
    "#### Numeric Columns\n",
    "- LotFrontage: Linear feet of street connected to property\n",
    "    \n",
    "- GarageYrBlt: Year garage was built\n",
    "\n",
    "- MasVnrArea: Masonry veneer area in square feet\n",
    "\n",
    "- BsmtFullBath: Basement full bathrooms\n",
    "\n",
    "- BsmtHalfBath: Basement half bathrooms\n",
    "\n",
    "- GarageCars: Size of garage in car capacity\n",
    "\n",
    "- BsmtFinSF1: Type 1 finished square feet\n",
    "\n",
    "- BsmtFinSF2: Type 2 finished square feet\n",
    "\n",
    "- BsmtUnfSF: Unfinished square feet of basement area\n",
    "\n",
    "- TotalBsmtSF: Total square feet of basement area\n",
    "\n",
    "- GarageArea: Size of garage in square feet"
   ]
  },
  {
   "cell_type": "markdown",
   "metadata": {},
   "source": [
    "The missing value of categorical columns should be replaced with 'NA'\n",
    "\n",
    "The missing value of numerical columns should be replaced with 0"
   ]
  },
  {
   "cell_type": "code",
   "execution_count": 69,
   "metadata": {},
   "outputs": [],
   "source": [
    "# filling missing values\n",
    "categorical_train = house_train.select_dtypes(exclude=['number'])\n",
    "numerical_train = house_train.select_dtypes(include=['number'])\n",
    "\n",
    "for col in categorical_train:\n",
    "        house_train[col] = house_train[col].fillna('NA')\n",
    "        \n",
    "for col in numerical_train:\n",
    "        house_train[col] = house_train[col].fillna(0)"
   ]
  },
  {
   "cell_type": "code",
   "execution_count": 70,
   "metadata": {},
   "outputs": [
    {
     "data": {
      "text/plain": [
       "Id                 0\n",
       "PID                0\n",
       "MS SubClass        0\n",
       "MS Zoning          0\n",
       "Lot Frontage       0\n",
       "Lot Area           0\n",
       "Street             0\n",
       "Alley              0\n",
       "Lot Shape          0\n",
       "Land Contour       0\n",
       "Utilities          0\n",
       "Lot Config         0\n",
       "Land Slope         0\n",
       "Neighborhood       0\n",
       "Condition 1        0\n",
       "Condition 2        0\n",
       "Bldg Type          0\n",
       "House Style        0\n",
       "Overall Qual       0\n",
       "Overall Cond       0\n",
       "Year Built         0\n",
       "Year Remod/Add     0\n",
       "Roof Style         0\n",
       "Roof Matl          0\n",
       "Exterior 1st       0\n",
       "Exterior 2nd       0\n",
       "Mas Vnr Type       0\n",
       "Mas Vnr Area       0\n",
       "Exter Qual         0\n",
       "Exter Cond         0\n",
       "Foundation         0\n",
       "Bsmt Qual          0\n",
       "Bsmt Cond          0\n",
       "Bsmt Exposure      0\n",
       "BsmtFin Type 1     0\n",
       "BsmtFin SF 1       0\n",
       "BsmtFin Type 2     0\n",
       "BsmtFin SF 2       0\n",
       "Bsmt Unf SF        0\n",
       "Total Bsmt SF      0\n",
       "Heating            0\n",
       "Heating QC         0\n",
       "Central Air        0\n",
       "Electrical         0\n",
       "1st Flr SF         0\n",
       "2nd Flr SF         0\n",
       "Low Qual Fin SF    0\n",
       "Gr Liv Area        0\n",
       "Bsmt Full Bath     0\n",
       "Bsmt Half Bath     0\n",
       "Full Bath          0\n",
       "Half Bath          0\n",
       "Bedroom AbvGr      0\n",
       "Kitchen AbvGr      0\n",
       "Kitchen Qual       0\n",
       "TotRms AbvGrd      0\n",
       "Functional         0\n",
       "Fireplaces         0\n",
       "Fireplace Qu       0\n",
       "Garage Type        0\n",
       "Garage Yr Blt      0\n",
       "Garage Finish      0\n",
       "Garage Cars        0\n",
       "Garage Area        0\n",
       "Garage Qual        0\n",
       "Garage Cond        0\n",
       "Paved Drive        0\n",
       "Wood Deck SF       0\n",
       "Open Porch SF      0\n",
       "Enclosed Porch     0\n",
       "3Ssn Porch         0\n",
       "Screen Porch       0\n",
       "Pool Area          0\n",
       "Pool QC            0\n",
       "Fence              0\n",
       "Misc Feature       0\n",
       "Misc Val           0\n",
       "Mo Sold            0\n",
       "Yr Sold            0\n",
       "Sale Type          0\n",
       "SalePrice          0\n",
       "dtype: int64"
      ]
     },
     "execution_count": 70,
     "metadata": {},
     "output_type": "execute_result"
    }
   ],
   "source": [
    "# Checking if every missing value is filled\n",
    "house_train.isnull().sum()"
   ]
  },
  {
   "cell_type": "code",
   "execution_count": 71,
   "metadata": {},
   "outputs": [],
   "source": [
    "# Export the train dataset without missing values\n",
    "house_train.to_csv('../datasets/train_clean.csv', index=False)"
   ]
  },
  {
   "cell_type": "markdown",
   "metadata": {},
   "source": [
    "### Test Data"
   ]
  },
  {
   "cell_type": "code",
   "execution_count": 72,
   "metadata": {},
   "outputs": [
    {
     "name": "stdout",
     "output_type": "stream",
     "text": [
      "Pool QC           875\n",
      "Misc Feature      838\n",
      "Alley             821\n",
      "Fence             707\n",
      "Fireplace Qu      422\n",
      "Lot Frontage      160\n",
      "Garage Yr Blt      45\n",
      "Garage Finish      45\n",
      "Garage Qual        45\n",
      "Garage Cond        45\n",
      "Garage Type        44\n",
      "BsmtFin Type 2     25\n",
      "BsmtFin Type 1     25\n",
      "Bsmt Exposure      25\n",
      "Bsmt Cond          25\n",
      "Bsmt Qual          25\n",
      "Mas Vnr Area        1\n",
      "Mas Vnr Type        1\n",
      "Electrical          1\n",
      "dtype: int64\n"
     ]
    }
   ],
   "source": [
    "# Check the missing data in the test dataset\n",
    "missing_test = house_test.isnull().sum()\n",
    "print(missing_test[missing_test > 0].sort_values(ascending = False))"
   ]
  },
  {
   "cell_type": "code",
   "execution_count": 73,
   "metadata": {},
   "outputs": [
    {
     "data": {
      "image/png": "[encoded data removed]",
      "text/plain": [
       "<Figure size 720x360 with 1 Axes>"
      ]
     },
     "metadata": {},
     "output_type": "display_data"
    }
   ],
   "source": [
    "# See which columns have missing values\n",
    "missing_test = missing_test[missing_test > 0]\n",
    "missing_test.sort_values(ascending = False, inplace = True)\n",
    "missing_test.plot.bar(figsize = (10,5))\n",
    "plt.title(\"Number of Missing Values\");"
   ]
  },
  {
   "cell_type": "markdown",
   "metadata": {},
   "source": [
    "#### Categorical columns\n",
    "\n",
    "- Pool QC\n",
    "- Misc Feature    \n",
    "- Alley             \n",
    "- Fence             \n",
    "- Fireplace Qu \n",
    "- Garage Finish      \n",
    "- Garage Qual        \n",
    "- Garage Cond        \n",
    "- Garage Type        \n",
    "- BsmtFin Type 2     \n",
    "- BsmtFin Type 1\n",
    "- Bsmt Exposure     \n",
    "- Bsmt Cond          \n",
    "- Bsmt Qual \n",
    "- Mas Vnr Type        \n",
    "- Electrical: Electrical system\n",
    "    - SBrkr: Standard Circuit Breakers & Romex\n",
    "    - FuseA: Fuse Box over 60 AMP and all Romex wiring (Average)\n",
    "    - FuseF: 60 AMP Fuse Box and mostly Romex wiring (Fair)\n",
    "    - FuseP: 60 AMP Fuse Box and mostly knob & tube wiring (poor)\n",
    "    - Mix: Mixed\n",
    "\n",
    "#### Numerical columns\n",
    "- Lot Frontage \n",
    "- Garage Yr Blt\n",
    "- Mas Vnr Area"
   ]
  },
  {
   "cell_type": "code",
   "execution_count": 74,
   "metadata": {},
   "outputs": [],
   "source": [
    "# filling missing values\n",
    "categorical_test = house_test.select_dtypes(exclude=['number'])\n",
    "numerical_test = house_test.select_dtypes(include=['number'])\n",
    "\n",
    "for col in categorical_test:\n",
    "        house_test[col] = house_test[col].fillna('NA')\n",
    "        \n",
    "for col in numerical_test:\n",
    "        house_test[col] = house_test[col].fillna(0)\n",
    "        \n",
    "# Electrical column do not have 'NA' as one of the option\n",
    "# Therefore, we should fill out the missing value with most common category within that column\n",
    "\n",
    "house_test['Electrical'] = house_test['Electrical'].fillna(house_test['Electrical'].mode()[0])"
   ]
  },
  {
   "cell_type": "code",
   "execution_count": 75,
   "metadata": {},
   "outputs": [
    {
     "data": {
      "text/plain": [
       "0"
      ]
     },
     "execution_count": 75,
     "metadata": {},
     "output_type": "execute_result"
    }
   ],
   "source": [
    "# Checking if every missing value is filled\n",
    "house_test.isnull().sum().sum()"
   ]
  },
  {
   "cell_type": "code",
   "execution_count": 76,
   "metadata": {},
   "outputs": [],
   "source": [
    "# Export the test dataset without any missing values\n",
    "house_test.to_csv('../datasets/test_clean.csv',index=False)"
   ]
  },
  {
   "cell_type": "code",
   "execution_count": null,
   "metadata": {},
   "outputs": [],
   "source": []
  }
 ],
 "metadata": {
  "kernelspec": {
   "display_name": "Python 3",
   "language": "python",
   "name": "python3"
  },
  "language_info": {
   "codemirror_mode": {
    "name": "ipython",
    "version": 3
   },
   "file_extension": ".py",
   "mimetype": "text/x-python",
   "name": "python",
   "nbconvert_exporter": "python",
   "pygments_lexer": "ipython3",
   "version": "3.6.5"
  }
 },
 "nbformat": 4,
 "nbformat_minor": 2
}
